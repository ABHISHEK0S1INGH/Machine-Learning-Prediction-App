{
 "cells": [
  {
   "cell_type": "markdown",
   "id": "896a18f9",
   "metadata": {},
   "source": [
    "# Machine Learning Model Analysis and Prediction\n",
    "This notebook loads a dataset, trains a machine learning model, evaluates its performance, and makes predictions on a test set. \n",
    "Results are visualized to provide insights into model predictions and performance."
   ]
  },
  {
   "cell_type": "code",
   "execution_count": null,
   "id": "5857a792",
   "metadata": {},
   "outputs": [],
   "source": [
    "import pandas as pd\n",
    "import numpy as np\n",
    "from sklearn.model_selection import train_test_split, cross_val_score\n",
    "from sklearn.ensemble import RandomForestClassifier\n",
    "from sklearn.metrics import accuracy_score, confusion_matrix, classification_report\n",
    "import seaborn as sns\n",
    "import matplotlib.pyplot as plt\n",
    "import joblib"
   ]
  },
  {
   "cell_type": "markdown",
   "id": "68565b31",
   "metadata": {},
   "source": [
    "## Data Loading"
   ]
  },
  {
   "cell_type": "code",
   "execution_count": null,
   "id": "64f6bbb8",
   "metadata": {},
   "outputs": [],
   "source": [
    "# Load datasets\n",
    "train_set = pd.read_csv(\"training_data.csv\")\n",
    "test_set = pd.read_csv(\"testing_data.csv\")\n",
    "\n",
    "# Display the first few rows of the training set\n",
    "train_set.head()"
   ]
  },
  {
   "cell_type": "markdown",
   "id": "05d3990c",
   "metadata": {},
   "source": [
    "## Data Exploration"
   ]
  },
  {
   "cell_type": "code",
   "execution_count": null,
   "id": "03a539f8",
   "metadata": {},
   "outputs": [],
   "source": [
    "# Overview of training data\n",
    "print(\"Training Data Info:\")\n",
    "train_set.info()\n",
    "print(\"\\nTraining Data Description:\")\n",
    "train_set.describe()\n",
    "\n",
    "# Check class distribution\n",
    "sns.countplot(x='Label', data=train_set)\n",
    "plt.title(\"Label Distribution in Training Data\")\n",
    "plt.show()"
   ]
  },
  {
   "cell_type": "markdown",
   "id": "b619f33f",
   "metadata": {},
   "source": [
    "## Data Preprocessing"
   ]
  },
  {
   "cell_type": "code",
   "execution_count": null,
   "id": "70592f53",
   "metadata": {},
   "outputs": [],
   "source": [
    "# Separate features and target\n",
    "X_train = train_set.drop(columns='Label')\n",
    "y_train = train_set['Label']\n",
    "\n",
    "# Prepare test set (if labeled, split accordingly)\n",
    "X_test = test_set"
   ]
  },
  {
   "cell_type": "markdown",
   "id": "c8c0363c",
   "metadata": {},
   "source": [
    "## Model Training and Evaluation"
   ]
  },
  {
   "cell_type": "code",
   "execution_count": null,
   "id": "6b01f3e1",
   "metadata": {},
   "outputs": [],
   "source": [
    "# Initialize and train model\n",
    "model = RandomForestClassifier(n_estimators=100, random_state=42)\n",
    "model.fit(X_train, y_train)\n",
    "\n",
    "# Cross-validation\n",
    "cv_scores = cross_val_score(model, X_train, y_train, cv=5)\n",
    "print(\"Cross-validation scores:\", cv_scores)\n",
    "print(\"Average CV accuracy:\", np.mean(cv_scores))"
   ]
  },
  {
   "cell_type": "code",
   "execution_count": null,
   "id": "df737fca",
   "metadata": {},
   "outputs": [],
   "source": [
    "# Evaluate on the test set (if labeled)\n",
    "# predictions = model.predict(X_test)  # Uncomment if test set has labels\n",
    "\n",
    "# Save model\n",
    "joblib.dump(model, \"trained_model.joblib\")"
   ]
  },
  {
   "cell_type": "markdown",
   "id": "b0fb71fe",
   "metadata": {},
   "source": [
    "## Prediction and Visualization"
   ]
  },
  {
   "cell_type": "code",
   "execution_count": null,
   "id": "8e534f25",
   "metadata": {},
   "outputs": [],
   "source": [
    "# Load model and predict\n",
    "model = joblib.load(\"trained_model.joblib\")\n",
    "predictions = model.predict(X_test)\n",
    "\n",
    "# Visualization of prediction distribution\n",
    "sns.countplot(x=predictions)\n",
    "plt.title(\"Prediction Distribution on Test Set\")\n",
    "plt.show()"
   ]
  },
  {
   "cell_type": "markdown",
   "id": "c6341fd9",
   "metadata": {},
   "source": [
    "## Summary of Results\n",
    "This notebook demonstrates data loading, exploration, training, and prediction. \n",
    "The Random Forest model's accuracy and other performance metrics were obtained using cross-validation, \n",
    "and predictions were visualized to show their distribution across classes."
   ]
  }
 ],
 "metadata": {},
 "nbformat": 4,
 "nbformat_minor": 5
}
